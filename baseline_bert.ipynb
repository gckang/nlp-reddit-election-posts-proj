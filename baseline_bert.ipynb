{
 "cells": [
  {
   "cell_type": "markdown",
   "metadata": {},
   "source": [
    "# Baseline BERT Results"
   ]
  },
  {
   "cell_type": "markdown",
   "metadata": {},
   "source": [
    "## BERT Setup"
   ]
  },
  {
   "cell_type": "code",
   "execution_count": 14,
   "metadata": {},
   "outputs": [
    {
     "name": "stderr",
     "output_type": "stream",
     "text": [
      "c:\\Users\\Albert Huang\\anaconda3\\Lib\\site-packages\\transformers\\modeling_utils.py:479: FutureWarning: You are using `torch.load` with `weights_only=False` (the current default value), which uses the default pickle module implicitly. It is possible to construct malicious pickle data which will execute arbitrary code during unpickling (See https://github.com/pytorch/pytorch/blob/main/SECURITY.md#untrusted-models for more details). In a future release, the default value for `weights_only` will be flipped to `True`. This limits the functions that could be executed during unpickling. Arbitrary objects will no longer be allowed to be loaded via this mode unless they are explicitly allowlisted by the user via `torch.serialization.add_safe_globals`. We recommend you start setting `weights_only=True` for any use case where you don't have full control of the loaded file. Please open an issue on GitHub for any issues related to this experimental feature.\n",
      "  return torch.load(checkpoint_file, map_location=map_location)\n"
     ]
    }
   ],
   "source": [
    "from transformers import BertTokenizer, BertForSequenceClassification\n",
    "from transformers import pipeline\n",
    "\n",
    "model_name = \"nlptown/bert-base-multilingual-uncased-sentiment\"\n",
    "\n",
    "tokenizer = BertTokenizer.from_pretrained(model_name)\n",
    "model = BertForSequenceClassification.from_pretrained(model_name)"
   ]
  },
  {
   "cell_type": "code",
   "execution_count": 21,
   "metadata": {},
   "outputs": [],
   "source": [
    "import pandas as pd\n",
    "\n",
    "def map_star_to_sentiment(star):\n",
    "    if '1 star' in star or '2 stars' in star:\n",
    "        return \"negative\"\n",
    "    elif '3 stars' in star:\n",
    "        return \"neutral\"\n",
    "    else:\n",
    "        return \"positive\"\n",
    "\n",
    "classifier = pipeline(\"sentiment-analysis\", model=model, tokenizer=tokenizer)\n",
    "tokenizer_kwargs = {'padding':True,'truncation':True,'max_length':512}"
   ]
  },
  {
   "cell_type": "markdown",
   "metadata": {},
   "source": [
    "## Baseline BERT Results"
   ]
  },
  {
   "cell_type": "code",
   "execution_count": null,
   "metadata": {},
   "outputs": [],
   "source": [
    "df = pd.read_csv('./data/labeled_comments.csv', encoding='utf-8')\n",
    "\n",
    "df['star_level'] = df['text'].apply(lambda x: classifier(x, **tokenizer_kwargs)[0]['label'])\n",
    "\n",
    "df['baseline'] = df['star_level'].apply(map_star_to_sentiment)"
   ]
  },
  {
   "cell_type": "code",
   "execution_count": 22,
   "metadata": {},
   "outputs": [
    {
     "data": {
      "text/html": [
       "<div>\n",
       "<style scoped>\n",
       "    .dataframe tbody tr th:only-of-type {\n",
       "        vertical-align: middle;\n",
       "    }\n",
       "\n",
       "    .dataframe tbody tr th {\n",
       "        vertical-align: top;\n",
       "    }\n",
       "\n",
       "    .dataframe thead th {\n",
       "        text-align: right;\n",
       "    }\n",
       "</style>\n",
       "<table border=\"1\" class=\"dataframe\">\n",
       "  <thead>\n",
       "    <tr style=\"text-align: right;\">\n",
       "      <th></th>\n",
       "      <th>text</th>\n",
       "      <th>created_utc</th>\n",
       "      <th>ups</th>\n",
       "      <th>subreddit</th>\n",
       "      <th>neg</th>\n",
       "      <th>neu</th>\n",
       "      <th>pos</th>\n",
       "      <th>compound</th>\n",
       "      <th>sentiment</th>\n",
       "      <th>star_level</th>\n",
       "      <th>baseline</th>\n",
       "    </tr>\n",
       "  </thead>\n",
       "  <tbody>\n",
       "    <tr>\n",
       "      <th>0</th>\n",
       "      <td>Very true, but the problem is that even at tha...</td>\n",
       "      <td>1590975768</td>\n",
       "      <td>1</td>\n",
       "      <td>democrats</td>\n",
       "      <td>0.239</td>\n",
       "      <td>0.645</td>\n",
       "      <td>0.116</td>\n",
       "      <td>-0.9769</td>\n",
       "      <td>negative</td>\n",
       "      <td>3 stars</td>\n",
       "      <td>neutral</td>\n",
       "    </tr>\n",
       "    <tr>\n",
       "      <th>1</th>\n",
       "      <td>You’re full of crap.\\n\\nYou present no facts w...</td>\n",
       "      <td>1590984758</td>\n",
       "      <td>2</td>\n",
       "      <td>democrats</td>\n",
       "      <td>0.163</td>\n",
       "      <td>0.692</td>\n",
       "      <td>0.145</td>\n",
       "      <td>-0.1101</td>\n",
       "      <td>negative</td>\n",
       "      <td>1 star</td>\n",
       "      <td>negative</td>\n",
       "    </tr>\n",
       "    <tr>\n",
       "      <th>2</th>\n",
       "      <td>Politically speaking, there is absolutely no w...</td>\n",
       "      <td>1590995791</td>\n",
       "      <td>29</td>\n",
       "      <td>democrats</td>\n",
       "      <td>0.062</td>\n",
       "      <td>0.823</td>\n",
       "      <td>0.115</td>\n",
       "      <td>0.9925</td>\n",
       "      <td>positive</td>\n",
       "      <td>2 stars</td>\n",
       "      <td>negative</td>\n",
       "    </tr>\n",
       "    <tr>\n",
       "      <th>3</th>\n",
       "      <td>This is what happens when the president of the...</td>\n",
       "      <td>1591008451</td>\n",
       "      <td>1</td>\n",
       "      <td>democrats</td>\n",
       "      <td>0.000</td>\n",
       "      <td>0.903</td>\n",
       "      <td>0.097</td>\n",
       "      <td>0.4215</td>\n",
       "      <td>positive</td>\n",
       "      <td>1 star</td>\n",
       "      <td>negative</td>\n",
       "    </tr>\n",
       "    <tr>\n",
       "      <th>4</th>\n",
       "      <td>Silly comment. No matter how bad a president h...</td>\n",
       "      <td>1591013669</td>\n",
       "      <td>1</td>\n",
       "      <td>democrats</td>\n",
       "      <td>0.261</td>\n",
       "      <td>0.647</td>\n",
       "      <td>0.092</td>\n",
       "      <td>-0.8060</td>\n",
       "      <td>negative</td>\n",
       "      <td>3 stars</td>\n",
       "      <td>neutral</td>\n",
       "    </tr>\n",
       "  </tbody>\n",
       "</table>\n",
       "</div>"
      ],
      "text/plain": [
       "                                                text  created_utc  ups  \\\n",
       "0  Very true, but the problem is that even at tha...   1590975768    1   \n",
       "1  You’re full of crap.\\n\\nYou present no facts w...   1590984758    2   \n",
       "2  Politically speaking, there is absolutely no w...   1590995791   29   \n",
       "3  This is what happens when the president of the...   1591008451    1   \n",
       "4  Silly comment. No matter how bad a president h...   1591013669    1   \n",
       "\n",
       "   subreddit    neg    neu    pos  compound sentiment star_level  baseline  \n",
       "0  democrats  0.239  0.645  0.116   -0.9769  negative    3 stars   neutral  \n",
       "1  democrats  0.163  0.692  0.145   -0.1101  negative     1 star  negative  \n",
       "2  democrats  0.062  0.823  0.115    0.9925  positive    2 stars  negative  \n",
       "3  democrats  0.000  0.903  0.097    0.4215  positive     1 star  negative  \n",
       "4  democrats  0.261  0.647  0.092   -0.8060  negative    3 stars   neutral  "
      ]
     },
     "execution_count": 22,
     "metadata": {},
     "output_type": "execute_result"
    }
   ],
   "source": [
    "df.head(5)"
   ]
  },
  {
   "cell_type": "code",
   "execution_count": 23,
   "metadata": {},
   "outputs": [
    {
     "name": "stdout",
     "output_type": "stream",
     "text": [
      "Accuracy: 51.52%\n"
     ]
    }
   ],
   "source": [
    "accuracy = (df['sentiment'] == df['baseline']).mean()\n",
    "\n",
    "print(f\"Accuracy: {accuracy * 100:.2f}%\")"
   ]
  }
 ],
 "metadata": {
  "kernelspec": {
   "display_name": "base",
   "language": "python",
   "name": "python3"
  },
  "language_info": {
   "codemirror_mode": {
    "name": "ipython",
    "version": 3
   },
   "file_extension": ".py",
   "mimetype": "text/x-python",
   "name": "python",
   "nbconvert_exporter": "python",
   "pygments_lexer": "ipython3",
   "version": "3.11.5"
  }
 },
 "nbformat": 4,
 "nbformat_minor": 2
}
